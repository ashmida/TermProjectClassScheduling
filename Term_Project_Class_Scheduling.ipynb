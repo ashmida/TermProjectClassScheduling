{
  "nbformat": 4,
  "nbformat_minor": 0,
  "metadata": {
    "colab": {
      "name": "Term Project: Class Scheduling",
      "provenance": [],
      "include_colab_link": true
    },
    "kernelspec": {
      "name": "python3",
      "display_name": "Python 3"
    }
  },
  "cells": [
    {
      "cell_type": "markdown",
      "metadata": {
        "id": "view-in-github",
        "colab_type": "text"
      },
      "source": [
        "<a href=\"https://colab.research.google.com/github/hanjebat/TermProjectClassScheduling/blob/master/Term_Project_Class_Scheduling.ipynb\" target=\"_parent\"><img src=\"https://colab.research.google.com/assets/colab-badge.svg\" alt=\"Open In Colab\"/></a>"
      ]
    },
    {
      "cell_type": "markdown",
      "metadata": {
        "id": "OiDBOpT_IGqR",
        "colab_type": "text"
      },
      "source": [
        "# **ClassScheduling Assignment**\n",
        "\n",
        "Finding the optimum class scheduling algorithm\n",
        "\n",
        "# **Introduction**\n",
        "\n",
        "In many aspects, trying to schedule a class time is very similar to CPU scheduling. For example\n",
        "\n",
        "\n",
        "\n",
        "1.   Each class has a duration class time, similar to a process having a process burst time.\n",
        "2.   In some cases, high level courses has higher priority than others. Similarly, process with much more importance, has higher priority than others.\n",
        "3. For some classes, lecturers prefer to have morning classes instead of afternoon classes because they come to the office much earlier than other lecturers. Similarly, Some algorithms in CPU scheduling has specific arrival time, thus processes that arrices first usually gets to run first.\n",
        "\n",
        "However, there are significant difference between class scheduling and CPU scheduling. In CPU scheduling, an algorithm can be pre-emptive. Meaning a process can be stopped, and put on the waiting queue/ready queue until it gets scheduled again. In Class scheduling, it is non-preemptive. We cannot stop a class from running to allow another process to run.\n",
        "\n",
        "Additionally, we do not assume new classes to be introduced during scheduling, meaning, the scheduling would be final with the input given, and no new courses are introduced after the scheduling have been made.\n",
        "\n",
        "# **Assignment**\n",
        "\n",
        "Your job is to propose the best scheduling algorithm to implement in finding the best Class Scheduling solution. Your choices of algorithms is using FCFS, Round-Robin, SJF, SRTF, or Priority Scheduling.\n",
        "As a hint, you can't use some algorithms, because they are pre-emptive scheduling algorithms. For example, you can use FCFS is a non-preemptive algorithm. Which ones are non-preemptive?\n",
        "\n",
        "# **Input**\n",
        "\n",
        "Similar to a process, each class, will have the following members of integer values to consider, its course code, duration, prefered started time and priority. We consider each course can be in the duration of 1 hour, 2 hours, or 3 hours at a time. We can therefore represent a course/class as a structure like the code given below.\n",
        "\n",
        "```\n",
        "using namespace std;\n",
        "\n",
        "struct Process\n",
        "{\n",
        "   int ccode;     // course code\n",
        "   int duration;      // class duration\n",
        "   int priority;  //priority\n",
        "   int arrival_time;   //prefered arrival time\n",
        "};\n",
        "```\n",
        "\n",
        "We can therefore, represent all the courses in an array and initialize them such as the code given below.\n",
        "\n",
        "```\n",
        "// courses CSC2201 with priority 2 for 3 hours with prefered to start first, \n",
        "// CSC3401 with priority 3 for 2 hours prefered to start second, \n",
        "// and CSC1103 with priority 1 for 1 hour \n",
        "Process proc[] = {{2201,3,2,1}, {3401, 2, 3,2}, {1103, 1,1,3}};\n",
        "```\n",
        "You can access each member in the process by using the dot operator in c++. An example is given below.\n",
        "\n",
        "```\n",
        "cout << proc[0].ccode;  //prints out the course code in the first element of the array\n",
        "```\n",
        "As an example, the code for FCFS (fcfs.cpp) is already given to you. Your job is to write the code for two other algorithms that you can consider using to schedule courses. Note that in FCFS, you can ignore the priority parameter, and prefered start time (arrival) because the algorithm only cares about what is in the queue (array).\n",
        "\n",
        "# **Output**\n",
        "\n",
        "Your output has to display out\n",
        "\n",
        "* Output the order of scheduling for the courses, in FCFS, and other 2 algorithms that you propose.\n",
        "* average waiting time\n",
        "* average turnaround time\n",
        "\n",
        "# **Analysis**\n",
        "Include in text file called analysis.md, your analysis of the algorithm, the input that you have given and the output that your algorithm have produced. Give an explanation as to why this is better or worst than other algorithms you've have considered.\n",
        "\n",
        "#**What to Submit**\n",
        "\n",
        "1. Create a github account. Fork a copy of this repository. Refer to how to fork, https://docs.github.com/en/github/getting-started-with-github/fork-a-repo\n",
        "2. AFter the fork, download your own fork repository.\n",
        "3. Upload your codes into your own repository. Make sure your repository contains the following files.\n",
        "\n",
        "    * modified version of FCFS algorithm (fcfs.cpp is already given, you may need to modify it yourself to do your analysis),\n",
        "    * 2nd algorithm to use as comparison, include the .cpp file,\n",
        "    * 3rd algorithm, include the .cpp file to use as comparison and the\n",
        "    analysis.md file.\n",
        "\n",
        "4. Very important to note, to include the names and Matric ID no of all your group members. Otherwise, your submission is not counted. Each group can only have a maximum of 4 people.\n",
        "\n",
        "5. Go into Google classroom, and submit a link to your github repository.\n",
        "\n",
        "# **Hints**\n",
        "Refer to https://www.studytonight.com/operating-system/cpu-scheduling\n",
        "\n",
        "\n",
        "\n",
        "\n"
      ]
    },
    {
      "cell_type": "markdown",
      "metadata": {
        "id": "ok4xj_tiuEQ2",
        "colab_type": "text"
      },
      "source": [
        "\n",
        "\n",
        "# FCFS.cpp from GitHub\n",
        "\n"
      ]
    },
    {
      "cell_type": "code",
      "metadata": {
        "id": "0S4gxt22F_U9",
        "colab_type": "code",
        "colab": {
          "base_uri": "https://localhost:8080/",
          "height": 35
        },
        "outputId": "d0438d9f-3e59-4512-ae67-e371fbd570a9"
      },
      "source": [
        "%%writefile fcfs.cpp\n",
        "\n",
        "/* Simple C++ program for implementation \n",
        "of FCFS scheduling */\n",
        "\n",
        "#include<iostream>\n",
        "\n",
        "using namespace std;\n",
        " \n",
        "// function to find the waiting time for all processes\n",
        "void findWaitingTime(int processes[], int n, int bt[], int wt[])\n",
        "{\n",
        "    // waiting time for first process will be 0\n",
        "    wt[0] = 0;\n",
        " \n",
        "    // calculating waiting time\n",
        "    for (int i = 1; i < n ; i++)\n",
        "    {\n",
        "        wt[i] =  bt[i-1] + wt[i-1];\n",
        "    }\n",
        "}\n",
        " \n",
        "// function to calculate turn around time\n",
        "void findTurnAroundTime( int processes[], int n, int bt[], int wt[], int tat[])\n",
        "{\n",
        "    // calculating turnaround time by adding\n",
        "    // bt[i] + wt[i]\n",
        "    for (int i = 0; i < n ; i++)\n",
        "    {\n",
        "        tat[i] = bt[i] + wt[i];\n",
        "    }\n",
        "}\n",
        " \n",
        "// function to calculate average time\n",
        "void findAverageTime( int processes[], int n, int bt[])\n",
        "{\n",
        "    int wt[n], tat[n], total_wt = 0, total_tat = 0;\n",
        " \n",
        "    // function to find waiting time of all processes\n",
        "    findWaitingTime(processes, n, bt, wt);\n",
        " \n",
        "    // function to find turn around time for all processes\n",
        "    findTurnAroundTime(processes, n, bt, wt, tat);\n",
        " \n",
        "    // display processes along with all details\n",
        "    cout << \"Processes  \"<< \" Burst time  \"<< \" Waiting time  \" << \" Turn around time\\n\";\n",
        " \n",
        "    // calculate total waiting time and total turn around time\n",
        "    for (int i = 0; i < n; i++)\n",
        "    {\n",
        "        total_wt = total_wt + wt[i];\n",
        "        total_tat = total_tat + tat[i];\n",
        "        cout << \"   \" << i+1 << \"\\t\\t\" << bt[i] <<\"\\t    \"<< wt[i] <<\"\\t\\t  \" << tat[i] <<endl;\n",
        "    }\n",
        " \n",
        "    cout << \"Average waiting time = \"<< (float)total_wt / (float)n;\n",
        "    cout << \"\\nAverage turn around time = \"<< (float)total_tat / (float)n;\n",
        "}\n",
        " \n",
        "// main function\n",
        "int main()\n",
        "{\n",
        "    // process ids\n",
        "    int processes[] = { 1, 2, 3, 4};\n",
        "    int n = sizeof processes / sizeof processes[0];\n",
        " \n",
        "    // burst time of all processes\n",
        "    int  burst_time[] = {21, 3, 6, 2};\n",
        " \n",
        "    findAverageTime(processes, n,  burst_time);\n",
        "    \n",
        "    return 0;\n",
        "}"
      ],
      "execution_count": null,
      "outputs": [
        {
          "output_type": "stream",
          "text": [
            "Writing fcfs.cpp\n"
          ],
          "name": "stdout"
        }
      ]
    },
    {
      "cell_type": "markdown",
      "metadata": {
        "id": "2wXHehbeKGIA",
        "colab_type": "text"
      },
      "source": [
        "\n",
        "**Compile and Run cpp code**"
      ]
    },
    {
      "cell_type": "code",
      "metadata": {
        "id": "LwhYOH4bGMR-",
        "colab_type": "code",
        "colab": {
          "base_uri": "https://localhost:8080/",
          "height": 260
        },
        "outputId": "a5d13606-deda-4f46-a049-6598721b5ee5"
      },
      "source": [
        "%%script bash\n",
        "\n",
        "g++ fcfs.cpp -o fcfs\n",
        "ls -laX\n",
        "./fcfs\n"
      ],
      "execution_count": null,
      "outputs": [
        {
          "output_type": "stream",
          "text": [
            "total 36\n",
            "-rwxr-xr-x 1 root root 13320 Aug 11 12:20 fcfs\n",
            "drwxr-xr-x 1 root root  4096 Jul 30 16:30 sample_data\n",
            "drwxr-xr-x 1 root root  4096 Aug 11 12:20 .\n",
            "drwxr-xr-x 1 root root  4096 Aug 11 12:18 ..\n",
            "drwxr-xr-x 1 root root  4096 Aug  3 16:17 .config\n",
            "-rw-r--r-- 1 root root  1898 Aug 11 12:20 fcfs.cpp\n",
            "Processes   Burst time   Waiting time   Turn around time\n",
            "   1\t\t21\t    0\t\t  21\n",
            "   2\t\t3\t    21\t\t  24\n",
            "   3\t\t6\t    24\t\t  30\n",
            "   4\t\t2\t    30\t\t  32\n",
            "Average waiting time = 18.75\n",
            "Average turn around time = 26.75"
          ],
          "name": "stdout"
        }
      ]
    },
    {
      "cell_type": "markdown",
      "metadata": {
        "id": "j5G-Of271Hrr",
        "colab_type": "text"
      },
      "source": [
        "# FIRST COME FIRST SERVE (FCFS) - MIMI"
      ]
    },
    {
      "cell_type": "code",
      "metadata": {
        "id": "t3HIMety-l0k",
        "colab_type": "code",
        "colab": {
          "base_uri": "https://localhost:8080/",
          "height": 35
        },
        "outputId": "ae1d2436-5c16-49da-dd25-ba67fd324b3d"
      },
      "source": [
        "%%writefile fcfs1.cpp\n",
        "#include<iostream>\n",
        "\n",
        "using namespace std;\n",
        "\n",
        "struct Process\n",
        "{\n",
        "   int ccode;     // course code\n",
        "   int duration;      // class duration\n",
        "   int priority;  //priority\n",
        "   int arrival_time;   //prefered arrival time\n",
        "};\n",
        "\n",
        "// function to find the waiting time for all processes\n",
        "void findWaitingTime(Process proc[], int n, int wt[])\n",
        "{\n",
        "    // waiting time for first process will be 0\n",
        "    wt[0] = 0;\n",
        " \n",
        "    // calculating waiting time\n",
        "    for (int i = 1; i < n ; i++)\n",
        "    {\n",
        "        wt[i] =  proc[i-1].duration + wt[i-1];\n",
        "    }\n",
        "}\n",
        " \n",
        "// function to calculate turn around time\n",
        "void findTurnAroundTime( Process proc[], int n, int wt[], int tat[])\n",
        "{\n",
        "    // calculating turnaround time by adding\n",
        "    // bt[i] + wt[i]\n",
        "    for (int i = 0; i < n ; i++)\n",
        "    {\n",
        "        tat[i] = proc[i].duration + wt[i];\n",
        "    }\n",
        "}\n",
        " \n",
        "// function to calculate average time\n",
        "void findAverageTime(Process proc[], int n)\n",
        "{\n",
        "    int wt[n], tat[n], total_wt = 0, total_tat = 0;\n",
        " \n",
        "    // function to find waiting time of all processes\n",
        "    findWaitingTime(proc, n, wt);\n",
        " \n",
        "    // function to find turn around time for all processes\n",
        "    findTurnAroundTime(proc, n, wt, tat);\n",
        " \n",
        "    // display processes along with all details\n",
        "    cout << \"Processes  \"<< \" Burst time  \"<< \" Waiting time  \" << \" Turn around time\\n\";\n",
        " \n",
        "    // calculate total waiting time and total turn around time\n",
        "    for (int i = 0; i < n; i++)\n",
        "    {\n",
        "        total_wt = total_wt + wt[i];\n",
        "        total_tat = total_tat + tat[i];\n",
        "        cout << \"   \" << i+1 << \"\\t\\t\" << proc[i].duration <<\"\\t    \"<< wt[i] <<\"\\t\\t  \" << tat[i] <<endl;\n",
        "    }\n",
        " \n",
        "    cout << \"Average waiting time = \"<< (float)total_wt / (float)n;\n",
        "    cout << \"\\nAverage turn around time = \"<< (float)total_tat / (float)n;\n",
        "}\n",
        "\n",
        "// main function\n",
        "int main()\n",
        "{\n",
        "    \n",
        "    Process proc[] = {{2201,3,2,1}, {3401, 2, 3,2}, {1103, 1,1,3}};\n",
        "    \n",
        "    int n = sizeof proc / sizeof proc[0];\n",
        "    \n",
        " \t  //findAverageTime\n",
        " \t  findAverageTime(proc, n);\n",
        " \t\n",
        "    return 0;\n",
        "}"
      ],
      "execution_count": null,
      "outputs": [
        {
          "output_type": "stream",
          "text": [
            "Writing fcfs1.cpp\n"
          ],
          "name": "stdout"
        }
      ]
    },
    {
      "cell_type": "markdown",
      "metadata": {
        "id": "LfwiXcGp1fcY",
        "colab_type": "text"
      },
      "source": [
        "**Run and Compile**"
      ]
    },
    {
      "cell_type": "code",
      "metadata": {
        "id": "aagpZA9Z1aRK",
        "colab_type": "code",
        "colab": {
          "base_uri": "https://localhost:8080/",
          "height": 274
        },
        "outputId": "87b14425-cb51-4b2a-80c4-5a755b8b64ea"
      },
      "source": [
        "%%script bash\n",
        "\n",
        "g++ fcfs1.cpp -o fcfs1\n",
        "ls -laX\n",
        "./fcfs1\n"
      ],
      "execution_count": null,
      "outputs": [
        {
          "output_type": "stream",
          "text": [
            "total 40\n",
            "-rwxr-xr-x 1 root root 13336 Aug 11 00:22 fcfs1\n",
            "drwxr-xr-x 1 root root  4096 Jul 30 16:30 sample_data\n",
            "drwxr-xr-x 1 root root  4096 Aug 11 00:22 .\n",
            "drwxr-xr-x 1 root root  4096 Aug 11 00:15 ..\n",
            "drwxr-xr-x 1 root root  4096 Aug  3 16:17 .config\n",
            "-rw-r--r-- 1 root root  1922 Aug 11 00:22 fcfs1.cpp\n",
            "-rw-r--r-- 1 root root  1922 Aug 11 00:21 fcfs.cpp\n",
            "Processes   Burst time   Waiting time   Turn around time\n",
            "   1\t\t3\t    0\t\t  3\n",
            "   2\t\t2\t    3\t\t  5\n",
            "   3\t\t1\t    5\t\t  6\n",
            "Average waiting time = 2.66667\n",
            "Average turn around time = 4.66667"
          ],
          "name": "stdout"
        }
      ]
    },
    {
      "cell_type": "markdown",
      "metadata": {
        "id": "RXsT5BotuL_R",
        "colab_type": "text"
      },
      "source": [
        "# SHORTEST JOB FIRST (SJF) - AYZA\n",
        "\n",
        "\n"
      ]
    },
    {
      "cell_type": "code",
      "metadata": {
        "id": "qEJfiWa8b7i-",
        "colab_type": "code",
        "colab": {
          "base_uri": "https://localhost:8080/",
          "height": 35
        },
        "outputId": "9f537db6-883e-4404-831b-e228c561882f"
      },
      "source": [
        "%%writefile sjf.cpp\n",
        "\n",
        "// C++ program to implement Shortest Job first with Arrival Time \n",
        "#include<iostream> \n",
        "using namespace std;\n",
        " \n",
        "int processes[10][6]; \n",
        "\n",
        "/*void swap(int *a, int *b) \n",
        "{ \n",
        "\tint temp = *a; \n",
        "\t*a = *b; \n",
        "\t*b = temp; \n",
        "} */\n",
        "\n",
        "void arrangeArrival(int n, int processes[][3]) \n",
        "{ \n",
        "\tfor(int i=0; i<n; i++) \n",
        "\t{ \n",
        "\t\tfor(int j=0; j<n-i-1; j++) \n",
        "\t\t{ \n",
        "\t\t\tif(processes[j][1] > processes[j+1][1]) \n",
        "\t\t\t{ \n",
        "\t\t\t\tfor(int k=0; k<5; k++) \n",
        "\t\t\t\t{ \n",
        "\t\t\t\t\tswap(processes[j][k], processes[j+1][k]); \n",
        "\t\t\t\t} \n",
        "\t\t\t} \n",
        "\t\t} \n",
        "\t} \n",
        "} \n",
        "\n",
        "int main() \n",
        "{ \n",
        "\tint n;\n",
        "\t \n",
        "\tint processes [5][3] = { {1,2,1}, {2,1,5}, {3,4,1}, {4,0,6}, {5,2,3}};\n",
        "    n = sizeof processes / sizeof processes[0];\n",
        "\t\n",
        "\tcout<<\"Before Arrange...\\n\"; \n",
        "\tcout<<\"Process ID\\tArrival Time\\tBurst Time\\n\"; \n",
        "\tfor(int i=0; i<n; i++) \n",
        "\t{ \n",
        "\t\tcout<<processes[i][0]<<\"\\t\\t\"<<processes[i][1]<<\"\\t\\t\"<<processes[i][2]<<\"\\n\"; \n",
        "\t} \n",
        "\t\n",
        "\tarrangeArrival(n, processes); \n",
        "\tcout<<\"Final Result...\\n\"; \n",
        "\tcout<<\"Process ID\\tArrival Time\\tBurst Time\\tWaiting Time\\tTurnaround Time\\n\"; \n",
        "\tfor(int i=0; i<n; i++) \n",
        "\t{ \n",
        "\t\tcout<<processes[i][0]<<\"\\t\\t\"<<processes[i][1]<<\"\\t\\t\"<<processes[i][2]<<\"\\n\"; \n",
        "\t} \n",
        "} "
      ],
      "execution_count": null,
      "outputs": [
        {
          "output_type": "stream",
          "text": [
            "Overwriting sjf.cpp\n"
          ],
          "name": "stdout"
        }
      ]
    },
    {
      "cell_type": "markdown",
      "metadata": {
        "id": "Z2dFY0YJs4F_",
        "colab_type": "text"
      },
      "source": [
        "**Run Code**"
      ]
    },
    {
      "cell_type": "code",
      "metadata": {
        "id": "P97Gww5Ws7Vh",
        "colab_type": "code",
        "colab": {
          "base_uri": "https://localhost:8080/",
          "height": 381
        },
        "outputId": "b5da0c26-2512-4072-f723-ca65fef5a47c"
      },
      "source": [
        "%%script bash\n",
        "\n",
        "g++ sjf.cpp -o sjf\n",
        "ls -laX\n",
        "./sjf"
      ],
      "execution_count": null,
      "outputs": [
        {
          "output_type": "stream",
          "text": [
            "total 36\n",
            "drwxr-xr-x 1 root root  4096 Jul 30 16:30 sample_data\n",
            "-rwxr-xr-x 1 root root 13304 Aug 10 09:44 sjf\n",
            "drwxr-xr-x 1 root root  4096 Aug 10 09:44 .\n",
            "drwxr-xr-x 1 root root  4096 Aug 10 09:27 ..\n",
            "drwxr-xr-x 1 root root  4096 Aug  3 16:17 .config\n",
            "-rw-r--r-- 1 root root  1091 Aug 10 09:44 sjf.cpp\n",
            "Before Arrange...\n",
            "Process ID\tArrival Time\tBurst Time\n",
            "1\t\t2\t\t1\n",
            "2\t\t1\t\t5\n",
            "3\t\t4\t\t1\n",
            "4\t\t0\t\t6\n",
            "5\t\t2\t\t3\n",
            "Final Result...\n",
            "Process ID\tArrival Time\tBurst Time\tWaiting Time\tTurnaround Time\n",
            "4\t\t0\t\t1\n",
            "2\t\t1\t\t1\n",
            "1\t\t2\t\t5\n",
            "5\t\t2\t\t3\n",
            "22063\t\t-2106972688\t\t6\n"
          ],
          "name": "stdout"
        }
      ]
    },
    {
      "cell_type": "markdown",
      "metadata": {
        "id": "c9Ot3e6tuVM8",
        "colab_type": "text"
      },
      "source": [
        "# PRIORITY SCHEDULING - HAN"
      ]
    },
    {
      "cell_type": "code",
      "metadata": {
        "id": "4G0nf-rtuth-",
        "colab_type": "code",
        "colab": {
          "base_uri": "https://localhost:8080/",
          "height": 35
        },
        "outputId": "370073b1-4bc0-4ea6-ee5f-57ff6154b1cf"
      },
      "source": [
        "%%writefile priorityscheduling.cpp\n",
        "\n",
        "#include<iostream>\n",
        "#include<algorithm>\n",
        "\n",
        "using namespace std;\n",
        "\n",
        "struct Process\n",
        "{\n",
        "   int ccode; //course code\n",
        "   int duration; //class duration\n",
        "   int priority; //priority\n",
        "   int arrival_time; //prefered arrival time\n",
        "};\n",
        "\n",
        "bool sortProcesses(Process a, Process b)  // sort the processes based on priority\n",
        "{ \n",
        "    return (a.priority < b.priority); \n",
        "} \n",
        "\n",
        "// Function to find the waiting time for all processes \n",
        "void findWaitingTime(Process proc[], int n, int wt[]) \n",
        "{ \n",
        "    // waiting time for first process is 0 \n",
        "    wt[0] = 0; \n",
        "  \n",
        "    // calculating waiting time \n",
        "    for (int  i = 1; i < n ; i++ ) \n",
        "        wt[i] =  proc[i-1].duration+ wt[i-1] ; \n",
        "} \n",
        "  \n",
        "// Function to calculate turn around time \n",
        "void findTurnAroundTime(Process proc[], int n, int wt[], int tat[]) \n",
        "{ \n",
        "    // calculating turnaround time by adding \n",
        "    // bt[i] + wt[i] \n",
        "    for (int  i = 0; i < n ; i++) \n",
        "        tat[i] = proc[i].duration + wt[i]; \n",
        "} \n",
        "  \n",
        "//Function to calculate average time \n",
        "void findavgTime(Process proc[], int n) \n",
        "{ \n",
        "    int wt[n], tat[n], total_wt = 0, total_tat = 0; \n",
        "  \n",
        "    //Function to find waiting time of all processes \n",
        "    findWaitingTime(proc, n, wt); \n",
        "  \n",
        "    //Function to find turn around time for all processes \n",
        "    findTurnAroundTime(proc, n, wt, tat); \n",
        "  \n",
        "    //Display processes along with all details \n",
        "    cout << \"\\nProcesses  \"<< \" Burst time  \"\n",
        "         << \" Waiting time  \" << \" Turn around time\\n\"; \n",
        "  \n",
        "    // Calculate total waiting time and total turn \n",
        "    // around time \n",
        "    for (int  i=0; i<n; i++) \n",
        "    { \n",
        "        total_wt = total_wt + wt[i]; \n",
        "        total_tat = total_tat + tat[i]; \n",
        "        cout << \"   \" << proc[i].ccode<< \"\\t\\t\"\n",
        "             << proc[i].duration<< \"\\t    \" << wt[i] \n",
        "             << \"\\t\\t  \" << tat[i] <<endl; \n",
        "    } \n",
        "  \n",
        "    cout << \"\\nAverage waiting time = \"\n",
        "         << (float)total_wt / (float)n; \n",
        "    cout << \"\\nAverage turn around time = \"\n",
        "         << (float)total_tat / (float)n; \n",
        "} \n",
        "\n",
        "void priorityScheduling(Process proc[], int n) \n",
        "{ \n",
        "    // Sort processes by priority \n",
        "    sort(proc, proc + n, sortProcesses); \n",
        "  \n",
        "    cout<< \"Order in which processes gets executed \\n\"; \n",
        "    for (int  i = 0 ; i <  n; i++) \n",
        "        cout << proc[i].ccode <<\" \" ; \n",
        "  \n",
        "    findavgTime(proc, n); \n",
        "} \n",
        "\n",
        "// Driver code \n",
        "int main() \n",
        "{ \n",
        "    // courses CSC2201 with priority 2 for 3 hours with prefered to start first, \n",
        "    // CSC3401 with priority 3 for 2 hours prefered to start second, \n",
        "    // and CSC1103 with priority 1 for 1 hour \n",
        "    Process proc[] = {{2201,3,2,1}, {3401,2,3,2}, {1103,1,1,3}};\n",
        "    int n = sizeof proc/sizeof proc[0]; \n",
        "    priorityScheduling(proc, n); \n",
        "    return 0; \n",
        "}"
      ],
      "execution_count": 1,
      "outputs": [
        {
          "output_type": "stream",
          "text": [
            "Writing priorityscheduling.cpp\n"
          ],
          "name": "stdout"
        }
      ]
    },
    {
      "cell_type": "markdown",
      "metadata": {
        "id": "0k7X_j9ku1dU",
        "colab_type": "text"
      },
      "source": [
        "**Run and Compile**"
      ]
    },
    {
      "cell_type": "code",
      "metadata": {
        "id": "WMSqlhvKu0q6",
        "colab_type": "code",
        "colab": {
          "base_uri": "https://localhost:8080/",
          "height": 295
        },
        "outputId": "387285bd-74d9-435b-e718-95fc28ee9ec7"
      },
      "source": [
        "%%script bash\n",
        "\n",
        "g++ priorityscheduling.cpp -o priorityscheduling\n",
        "ls -laX\n",
        "./priorityscheduling"
      ],
      "execution_count": 2,
      "outputs": [
        {
          "output_type": "stream",
          "text": [
            "total 44\n",
            "-rwxr-xr-x 1 root root 21728 Aug 11 17:24 priorityscheduling\n",
            "drwxr-xr-x 1 root root  4096 Jul 30 16:30 sample_data\n",
            "drwxr-xr-x 1 root root  4096 Aug 11 17:24 .\n",
            "drwxr-xr-x 1 root root  4096 Aug 11 17:21 ..\n",
            "drwxr-xr-x 1 root root  4096 Aug 10 21:25 .config\n",
            "-rw-r--r-- 1 root root  2602 Aug 11 17:24 priorityscheduling.cpp\n",
            "Order in which processes gets executed \n",
            "1103 2201 3401 \n",
            "Processes   Burst time   Waiting time   Turn around time\n",
            "   1103\t\t1\t    0\t\t  1\n",
            "   2201\t\t3\t    1\t\t  4\n",
            "   3401\t\t2\t    4\t\t  6\n",
            "\n",
            "Average waiting time = 1.66667\n",
            "Average turn around time = 3.66667"
          ],
          "name": "stdout"
        }
      ]
    }
  ]
}